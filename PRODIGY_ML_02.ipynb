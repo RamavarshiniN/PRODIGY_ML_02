{
  "nbformat": 4,
  "nbformat_minor": 0,
  "metadata": {
    "colab": {
      "provenance": []
    },
    "kernelspec": {
      "name": "python3",
      "display_name": "Python 3"
    },
    "language_info": {
      "name": "python"
    }
  },
  "cells": [
    {
      "cell_type": "code",
      "execution_count": 1,
      "metadata": {
        "id": "pY7zUtaPS2FF"
      },
      "outputs": [],
      "source": [
        "import pandas as pd\n",
        "import matplotlib.pyplot as plt\n",
        "from sklearn.cluster import KMeans\n",
        "\n",
        "url = \"https://raw.githubusercontent.com/dphi-official/Datasets/master/Mall_Customers.csv\"\n",
        "df = pd.read_csv(url)\n",
        "\n",
        "X = df[['Annual Income (k$)', 'Spending Score (1-100)']]\n",
        "\n",
        "wcss = []\n",
        "for i in range(1, 11):\n",
        "    kmeans = KMeans(n_clusters=i, init='k-means++', random_state=42)\n",
        "    kmeans.fit(X)\n",
        "    wcss.append(kmeans.inertia_)\n",
        "\n",
        "plt.figure(figsize=(8, 4))\n",
        "plt.plot(range(1, 11), wcss, marker='o')\n",
        "plt.title('Elbow Method')\n",
        "plt.xlabel('Number of clusters')\n",
        "plt.ylabel('WCSS')\n",
        "plt.grid(True)\n",
        "plt.tight_layout()\n",
        "plt.savefig(\"elbow_method.png\")\n",
        "plt.close()\n",
        "\n",
        "kmeans = KMeans(n_clusters=5, init='k-means++', random_state=42)\n",
        "y_kmeans = kmeans.fit_predict(X)\n",
        "\n",
        "df['Cluster'] = y_kmeans\n",
        "\n",
        "df_out = df[['CustomerID', 'Cluster']]\n",
        "df_out.to_csv(\"customer_clusters.csv\", index=False)\n",
        "\n",
        "plt.figure(figsize=(8, 6))\n",
        "colors = ['red', 'blue', 'green', 'cyan', 'magenta']\n",
        "for i in range(5):\n",
        "    plt.scatter(X[y_kmeans == i]['Annual Income (k$)'],\n",
        "                X[y_kmeans == i]['Spending Score (1-100)'],\n",
        "                s=100, c=colors[i], label=f'Cluster {i}')\n",
        "plt.scatter(kmeans.cluster_centers_[:, 0], kmeans.cluster_centers_[:, 1],\n",
        "            s=300, c='yellow', label='Centroids', marker='X')\n",
        "plt.title('Customer Segments')\n",
        "plt.xlabel('Annual Income (k$)')\n",
        "plt.ylabel('Spending Score (1-100)')\n",
        "plt.legend()\n",
        "plt.grid(True)\n",
        "plt.tight_layout()\n",
        "plt.savefig(\"customer_segments.png\")\n",
        "plt.close()"
      ]
    }
  ]
}